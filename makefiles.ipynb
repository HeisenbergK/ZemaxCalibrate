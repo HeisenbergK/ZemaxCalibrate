{
 "cells": [
  {
   "cell_type": "code",
   "execution_count": 1,
   "metadata": {},
   "outputs": [],
   "source": [
    "import numpy as np"
   ]
  },
  {
   "cell_type": "code",
   "execution_count": 2,
   "metadata": {},
   "outputs": [],
   "source": [
    "x = np.linspace(-0.25,0.25,24)\n",
    "y = np.linspace(-0.25,0.25,24)\n",
    "xy = []\n",
    "for i in x:\n",
    "    for j in y:\n",
    "        xy.append(\"%.2f, %.2f\"%(i,j))"
   ]
  },
  {
   "cell_type": "code",
   "execution_count": 3,
   "metadata": {},
   "outputs": [],
   "source": [
    "for i in range(1,49):\n",
    "    filer = open(\"Files/field_%d.txt\"%i, 'w')\n",
    "    for j in range(0,12):\n",
    "        filer.write(\"%s\\n\"%xy[j+12*(i-1)])\n",
    "    filer.close()"
   ]
  }
 ],
 "metadata": {
  "interpreter": {
   "hash": "5fae1b9e7d2b2333c6eee84bb65efb4dccafcd80247fb0a6269a44430afe8237"
  },
  "kernelspec": {
   "display_name": "Python 3.8.10 64-bit (windows store)",
   "language": "python",
   "name": "python3"
  },
  "language_info": {
   "codemirror_mode": {
    "name": "ipython",
    "version": 3
   },
   "file_extension": ".py",
   "mimetype": "text/x-python",
   "name": "python",
   "nbconvert_exporter": "python",
   "pygments_lexer": "ipython3",
   "version": "3.9.16"
  },
  "orig_nbformat": 4
 },
 "nbformat": 4,
 "nbformat_minor": 2
}
